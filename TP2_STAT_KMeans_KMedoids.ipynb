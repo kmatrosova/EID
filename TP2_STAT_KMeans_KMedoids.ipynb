{
 "cells": [
  {
   "cell_type": "code",
   "execution_count": 3,
   "metadata": {},
   "outputs": [],
   "source": [
    "import numpy as np\n",
    "from sklearn import datasets\n",
    "from sklearn.metrics.pairwise import euclidean_distances\n",
    "from sklearn.cluster import KMeans\n",
    "import random\n",
    "from sklearn.metrics import silhouette_score\n",
    "from sklearn.metrics import davies_bouldin_score\n",
    "import matplotlib.pyplot as plt"
   ]
  },
  {
   "cell_type": "code",
   "execution_count": 4,
   "metadata": {},
   "outputs": [],
   "source": [
    "iris = datasets.load_iris()\n",
    "X = iris.data\n",
    "Y = iris.target\n",
    "\n",
    "colors=['green','skyblue', 'navy']"
   ]
  },
  {
   "cell_type": "code",
   "execution_count": 5,
   "metadata": {},
   "outputs": [
    {
     "data": {
      "image/png": "[encoded data removed]",
      "text/plain": [
       "<Figure size 432x288 with 1 Axes>"
      ]
     },
     "metadata": {
      "needs_background": "light"
     },
     "output_type": "display_data"
    }
   ],
   "source": [
    "# K-Means avec centroïdes définis de façon random\n",
    "def k_means_rand(X, k):\n",
    "    \n",
    "    M = X.shape[1]\n",
    "    N = X.shape[0]\n",
    "    distances = np.empty(k)\n",
    "    labels = np.zeros(N, dtype = int)\n",
    "    centroids = np.empty([k, M])\n",
    "    \n",
    "    # initialisation des centres\n",
    "    for i in range (0, k):\n",
    "        centroids[i] = random.choices(X, k=1)[0]\n",
    "    \n",
    "    # s ici est choisi arbitrairement, c'est le nombre de fois que l'on va recalculer le cout et les centres \n",
    "    for s in range (0, 10):\n",
    "        \n",
    "        #calcul des distances - attribution des labels aux données\n",
    "        for i in range (0, N):\n",
    "            for j in range (0, k):\n",
    "                distances[j] = euclidean_distances([X[i]], [centroids[j]])\n",
    "            labels[i] = np.argmin(distances)\n",
    "\n",
    "        nb_x = np.zeros(k)\n",
    "        new_centroids = np.zeros([k, M])\n",
    "\n",
    "        #on calcule les nouveaux centroides en faisant une moyenne des donnees de chaque cluster\n",
    "        for i in range (0, N):\n",
    "            nb_x[labels[i]] += 1\n",
    "            new_centroids[labels[i]] += X[i]  \n",
    "        \n",
    "        for i in range(0, k):\n",
    "            if nb_x[i] != 0:\n",
    "                centroids[i] = new_centroids[i]/float(nb_x[i])   \n",
    "                \n",
    "    return labels,centroids\n",
    "    \n",
    "\n",
    "labels,centroids = k_means_rand(X, 3)\n",
    "for i in range(0, X.shape[0]):\n",
    "\n",
    "  plt.scatter(X[i][0], X[i][1], c=colors[labels[i]%len(colors)])\n",
    "  plt.scatter(centroids[:,0],centroids[:,1],marker = 'o',c='orange')\n",
    "\n",
    "plt.show()"
   ]
  },
  {
   "cell_type": "code",
   "execution_count": 519,
   "metadata": {},
   "outputs": [
    {
     "data": {
      "image/png": "[encoded data removed]",
      "text/plain": [
       "<Figure size 432x288 with 1 Axes>"
      ]
     },
     "metadata": {
      "needs_background": "light"
     },
     "output_type": "display_data"
    }
   ],
   "source": [
    "# K-Means avec centroïdes définis avec la méthode K-means++\n",
    "def k_means_plus(X, k):\n",
    "    \n",
    "    M = X.shape[1]\n",
    "    N = X.shape[0]\n",
    "    centroids = np.empty([k, M])\n",
    "    distances = np.empty(k)\n",
    "    labels = np.zeros(N, dtype = int)\n",
    "    \n",
    "    # initialisation des centres\n",
    "    centroids = KMeans(n_clusters=k,max_iter=1).fit(X).cluster_centers_\n",
    "    \n",
    "    # s ici est choisi arbitrairement, c'est le nombre de fois que l'on va recalculer le cout et les centres\n",
    "    for s in range (0, 5):\n",
    "        \n",
    "        #calcul des distances - atribution des labels aux données\n",
    "        for i in range (0, N):\n",
    "            for j in range (0, k):\n",
    "                distances[j] = euclidean_distances([X[i]], [centroids[j]])\n",
    "            labels[i] = np.argmin(distances)\n",
    "\n",
    "        nb_x = np.zeros(k)\n",
    "        new_centroids = np.zeros([k, M])\n",
    "\n",
    "        #on calcule les nouveaux centroides en faisant une moyenne des donnees de chaque cluster\n",
    "        for i in range (0, N):\n",
    "            nb_x[labels[i]] += 1\n",
    "            new_centroids[labels[i]] += X[i]       \n",
    "\n",
    "        for i in range(0, k):\n",
    "            if nb_x[i] != 0:\n",
    "                centroids[i] = new_centroids[i]/float(nb_x[i])\n",
    "\n",
    "    return labels,centroids\n",
    "  \n",
    "    \n",
    "labels,centroids = k_means_plus(X, 3)\n",
    "for i in range(0, X.shape[0]):\n",
    "\n",
    "  plt.scatter(X[i][0], X[i][1], c=colors[labels[i]%len(colors)])\n",
    "  plt.scatter(centroids[:,0],centroids[:,1],marker = 'o',c='orange')\n",
    "\n",
    "plt.show()"
   ]
  },
  {
   "cell_type": "code",
   "execution_count": 613,
   "metadata": {},
   "outputs": [
    {
     "data": {
      "image/png": "[encoded data removed]",
      "text/plain": [
       "<Figure size 432x288 with 1 Axes>"
      ]
     },
     "metadata": {
      "needs_background": "light"
     },
     "output_type": "display_data"
    }
   ],
   "source": [
    "# K-Means avec le premier centroide defini aléatoirement et les k-1 restants - \n",
    "# les données les plus proches du premier centroïde\n",
    "def k_means_closest(X, k):\n",
    "    \n",
    "    M = X.shape[1]\n",
    "    N = X.shape[0]\n",
    "    centroids = np.empty([k, M])\n",
    "    dtype = [('index', int), ('distance', float)]\n",
    "    centr = np.empty(N, dtype=dtype)\n",
    "    distances = np.empty(k)\n",
    "    labels = np.zeros(N, dtype = int)\n",
    "    \n",
    "    # initialisation des centres\n",
    "    centroids[0] = random.choices(X, k=1)[0]\n",
    "    \n",
    "    #calcul des distances - atribution des labels aux données\n",
    "    for i in range (0, N):\n",
    "        centr[i] = (i, euclidean_distances([X[i]], [centroids[0]]))\n",
    "    centr = np.sort(centr, order='distance')\n",
    "        \n",
    "    for i in range (1, k):  \n",
    "        centroids[i] = X[(centr['index'][i])]\n",
    "\n",
    "    # s ici est choisi arbitrairement, c'est le nombre de fois que l'on va recalculer le cout et les centres\n",
    "    for s in range (0, 10):\n",
    "        \n",
    "        for i in range (0, N):\n",
    "            for j in range (0, k):\n",
    "                distances[j] = euclidean_distances([X[i]], [centroids[j]])\n",
    "            labels[i] = np.argmin(distances)\n",
    "\n",
    "        nb_x = np.zeros(k)\n",
    "        new_centroids = np.zeros([k, M])\n",
    "\n",
    "        #on calcule les nouveaux centroides en faisant une moyenne des donnees de chaque cluster\n",
    "        for i in range (0, N):\n",
    "            nb_x[labels[i]] += 1\n",
    "            new_centroids[labels[i]] += X[i]       \n",
    "\n",
    "        for i in range(0, k):\n",
    "            if nb_x[i] != 0:\n",
    "                centroids[i] = new_centroids[i]/float(nb_x[i])  \n",
    "    return labels,centroids\n",
    "        \n",
    "       \n",
    "labels,centroids = k_means_closest(X, 3)\n",
    "for i in range(0, X.shape[0]):\n",
    "\n",
    "  plt.scatter(X[i][0], X[i][1], c=colors[labels[i]%len(colors)])\n",
    "  plt.scatter(centroids[:,0],centroids[:,1],marker = 'o',c='orange')\n",
    "\n",
    "plt.show()"
   ]
  },
  {
   "cell_type": "code",
   "execution_count": 655,
   "metadata": {},
   "outputs": [
    {
     "name": "stderr",
     "output_type": "stream",
     "text": [
      "/anaconda3/lib/python3.7/site-packages/sklearn/metrics/cluster/unsupervised.py:342: RuntimeWarning: divide by zero encountered in true_divide\n",
      "  score = (intra_dists[:, None] + intra_dists) / centroid_distances\n"
     ]
    },
    {
     "name": "stdout",
     "output_type": "stream",
     "text": [
      "random:  0.6660385791628485\n"
     ]
    },
    {
     "name": "stderr",
     "output_type": "stream",
     "text": [
      "/anaconda3/lib/python3.7/site-packages/sklearn/metrics/cluster/unsupervised.py:342: RuntimeWarning: divide by zero encountered in true_divide\n",
      "  score = (intra_dists[:, None] + intra_dists) / centroid_distances\n"
     ]
    },
    {
     "name": "stdout",
     "output_type": "stream",
     "text": [
      "random:  0.6660385791628485\n"
     ]
    },
    {
     "name": "stderr",
     "output_type": "stream",
     "text": [
      "/anaconda3/lib/python3.7/site-packages/sklearn/metrics/cluster/unsupervised.py:342: RuntimeWarning: divide by zero encountered in true_divide\n",
      "  score = (intra_dists[:, None] + intra_dists) / centroid_distances\n"
     ]
    },
    {
     "name": "stdout",
     "output_type": "stream",
     "text": [
      "random:  0.6692465823103232\n"
     ]
    },
    {
     "name": "stderr",
     "output_type": "stream",
     "text": [
      "/anaconda3/lib/python3.7/site-packages/sklearn/metrics/cluster/unsupervised.py:342: RuntimeWarning: divide by zero encountered in true_divide\n",
      "  score = (intra_dists[:, None] + intra_dists) / centroid_distances\n"
     ]
    },
    {
     "name": "stdout",
     "output_type": "stream",
     "text": [
      "K++:  0.6619715465007486\n",
      "K closest:  0.6619715465007486\n"
     ]
    },
    {
     "name": "stderr",
     "output_type": "stream",
     "text": [
      "/anaconda3/lib/python3.7/site-packages/sklearn/metrics/cluster/unsupervised.py:342: RuntimeWarning: divide by zero encountered in true_divide\n",
      "  score = (intra_dists[:, None] + intra_dists) / centroid_distances\n"
     ]
    }
   ],
   "source": [
    "# J'ai essayé ici d'utiliser l'indice de Davies Bouldin pour comparer l'efficacité des differentes manières\n",
    "# de définir les centroïdes dans K-means. Finalement, toutes les méthodes semblent être efficaces après un\n",
    "# certain nombre d'itérations.\n",
    "\n",
    "labels,centroids = k_means_rand(X, 3)\n",
    "print(\"random: \", davies_bouldin_score(X, labels))\n",
    "\n",
    "labels,centroids = k_means_plus(X, 3)\n",
    "print(\"K++: \", davies_bouldin_score(X, labels))\n",
    "\n",
    "labels,centroids = k_means_closest(X, 3)\n",
    "print(\"K closest: \", davies_bouldin_score(X, labels))"
   ]
  },
  {
   "cell_type": "code",
   "execution_count": 638,
   "metadata": {},
   "outputs": [
    {
     "name": "stdout",
     "output_type": "stream",
     "text": [
      "i =  0 :  0.5511916046195915\n",
      "i =  1 :  0.5511916046195915\n",
      "i =  2 :  0.51227188549612\n",
      "i =  3 :  0.5185675688773274\n",
      "i =  4 :  0.5495175126471614\n"
     ]
    }
   ],
   "source": [
    "# Test - indice de Silhouette de K-means avec k=3\n",
    "for i in range(0,5):\n",
    "    \n",
    "    labels,centroids = k_means_rand(X, 3)\n",
    "    print(\"i = \", i, \": \", silhouette_score (X,labels, metric='euclidean'))"
   ]
  },
  {
   "cell_type": "code",
   "execution_count": 639,
   "metadata": {},
   "outputs": [
    {
     "name": "stdout",
     "output_type": "stream",
     "text": [
      "i =  0 :  0.6810461692117459\n",
      "i =  1 :  0.6810461692117459\n",
      "i =  2 :  0.6810461692117459\n",
      "i =  3 :  0.6810461692117459\n",
      "i =  4 :  0.6810461692117459\n"
     ]
    }
   ],
   "source": [
    "# Test - indice de Silhouette de K-means avec k=2\n",
    "for i in range(0,5):\n",
    "    \n",
    "    labels,centroids = k_means_rand(X, 2)\n",
    "    print(\"i = \", i, \": \", silhouette_score (X,labels, metric='euclidean'))"
   ]
  },
  {
   "cell_type": "code",
   "execution_count": 640,
   "metadata": {},
   "outputs": [
    {
     "name": "stdout",
     "output_type": "stream",
     "text": [
      "i =  0 :  0.3726790261231237\n",
      "i =  1 :  0.4939444414814313\n",
      "i =  2 :  0.36721493482324763\n",
      "i =  3 :  0.3640626192643992\n",
      "i =  4 :  0.38083037012132337\n"
     ]
    }
   ],
   "source": [
    "# Test - indice de Silhouette de K-means avec k=5\n",
    "for i in range(0,5):\n",
    "    \n",
    "    labels,centroids = k_means_rand(X, 5)\n",
    "    print(\"i = \", i, \": \", silhouette_score (X,labels, metric='euclidean'))"
   ]
  },
  {
   "cell_type": "code",
   "execution_count": 645,
   "metadata": {},
   "outputs": [
    {
     "name": "stdout",
     "output_type": "stream",
     "text": [
      "cost :  160.57822052175433\n",
      "new cost :  157.7406080183027\n",
      "new cost :  156.17458245239138\n",
      "new cost :  155.5065529878628\n",
      "new cost :  155.4154619095835\n",
      "new cost :  155.07956716776513\n",
      "new cost :  154.79829518828717\n",
      "new cost :  154.68331128930066\n",
      "new cost :  136.85326402141044\n",
      "new cost :  116.23140691398909\n",
      "new cost :  113.96575110277601\n",
      "new cost :  107.71686795920242\n",
      "new cost :  107.58526715298075\n",
      "new cost :  105.41332512459674\n",
      "new cost :  103.8239756504982\n",
      "score : 0.5497648973752719\n"
     ]
    },
    {
     "data": {
      "image/png": "[encoded data removed]",
      "text/plain": [
       "<Figure size 432x288 with 1 Axes>"
      ]
     },
     "metadata": {
      "needs_background": "light"
     },
     "output_type": "display_data"
    }
   ],
   "source": [
    "# K-medoids avec medoids randoms\n",
    "def k_medoids(X, k):\n",
    "    \n",
    "    M = X.shape[1]\n",
    "    N = X.shape[0]\n",
    "    medoids = np.empty([k, M])\n",
    "    distances = np.empty(k)\n",
    "    labels = np.zeros(N, dtype=int)\n",
    "    prev_sum = 0\n",
    "    dist_sum = 0\n",
    "    tmp = np.empty([1,M])\n",
    "    \n",
    "    # initialisation des centres\n",
    "    for i in range (0, k):\n",
    "        medoids[i] = random.choices(X, k=1)[0]\n",
    "    \n",
    "    #calcul des distances - attribution des labels aux données\n",
    "    for i in range (0, N):\n",
    "        for j in range (0, k):\n",
    "            distances[j] = euclidean_distances([X[i]], [medoids[j]])\n",
    "        labels[i] = np.argmin(distances)\n",
    "        prev_sum += np.min(distances)\n",
    "    print(\"cost : \", prev_sum)\n",
    "    \n",
    "    # on essaye de remplacer un par un chaque medoid par chaque X[i]\n",
    "    for i in range (0, N):\n",
    "        for j in range (0, k):\n",
    "            tmp = np.copy(medoids[j])\n",
    "            medoids[j] = np.copy(X[i])\n",
    "            \n",
    "            \n",
    "            # on recalcule l'hypotetique somme des distances de chaque point a son medoide le plus proche\n",
    "            for u in range (0, N):\n",
    "                for w in range (0, k):\n",
    "                    distances[w] = euclidean_distances([X[u]], [medoids[w]])\n",
    "                dist_sum += np.min(distances)\n",
    "        \n",
    "            \n",
    "            # si la somme a diminué, on remplace effectivement le medoide par X[i]\n",
    "            if dist_sum < prev_sum:\n",
    "                print(\"new cost : \", dist_sum)\n",
    "                prev_sum = dist_sum\n",
    "                dist_sum = 0\n",
    "                \n",
    "            \n",
    "            # sinon on re-swap\n",
    "            else:\n",
    "                medoids[j] = tmp\n",
    "                dist_sum = 0\n",
    "\n",
    "    # on attribue des nouveaux labels aux données en utilisant les medoides recalculés\n",
    "    for i in range (0, N):\n",
    "        for j in range (0, k):\n",
    "            distances[j] = euclidean_distances([X[i]], [medoids[j]])\n",
    "        labels[i] = np.argmin(distances)\n",
    "        \n",
    "    return labels,medoids\n",
    "  \n",
    "    \n",
    "labels,centroids = k_medoids(X, 3)\n",
    "\n",
    "print(\"score :\", silhouette_score (X,labels, metric='euclidean'))\n",
    "\n",
    "for i in range(0, X.shape[0]):\n",
    "\n",
    "  plt.scatter(X[i][0], X[i][1], c=colors[labels[i]%len(colors)])\n",
    "  plt.scatter(centroids[:,0],centroids[:,1],marker = 'o',c='orange')\n",
    "    \n",
    "plt.show()\n"
   ]
  },
  {
   "cell_type": "code",
   "execution_count": 656,
   "metadata": {},
   "outputs": [
    {
     "name": "stdout",
     "output_type": "stream",
     "text": [
      "cost :  127.94433342711947\n",
      "new cost :  126.34963762464778\n",
      "new cost :  126.31176619596998\n",
      "new cost :  126.23069037434072\n",
      "new cost :  126.03284803537797\n",
      "new cost :  123.91575954073214\n",
      "new cost :  111.3480264210891\n",
      "new cost :  110.3960721075945\n",
      "new cost :  109.2419807924887\n",
      "new cost :  107.21545775126793\n",
      "new cost :  106.84643288865664\n",
      "new cost :  106.26759162194602\n",
      "new cost :  105.74074736422949\n",
      "new cost :  105.55054453182657\n",
      "new cost :  104.37196727890182\n",
      "new cost :  104.32421959178052\n",
      "new cost :  103.78339325644735\n",
      "new cost :  102.95823606037568\n",
      "new cost :  101.24051729247071\n",
      "new cost :  101.18870575659585\n",
      "new cost :  100.65772817344288\n",
      "score : 0.520198401310698\n"
     ]
    },
    {
     "data": {
      "image/png": "[encoded data removed]",
      "text/plain": [
       "<Figure size 432x288 with 1 Axes>"
      ]
     },
     "metadata": {
      "needs_background": "light"
     },
     "output_type": "display_data"
    }
   ],
   "source": [
    "# K-Medoids avec centroïdes définis avec la méthode K-means++\n",
    "def k_medoids_plus(X, k):\n",
    "    \n",
    "    M = X.shape[1]\n",
    "    N = X.shape[0]\n",
    "    medoids = np.empty([k, M])\n",
    "    distances = np.empty(k)\n",
    "    labels = np.zeros(N, dtype=int)\n",
    "    prev_sum = 0\n",
    "    dist_sum = 0\n",
    "    tmp = np.empty([1,M])\n",
    "    \n",
    "    # initialisation des centres\n",
    "    medoids = KMeans(n_clusters=k,max_iter=1).fit(X).cluster_centers_\n",
    "    \n",
    "    for i in range (0, N):\n",
    "        for j in range (0, k):\n",
    "            distances[j] = euclidean_distances([X[i]], [medoids[j]])\n",
    "        labels[i] = np.argmin(distances)\n",
    "        prev_sum += np.min(distances)\n",
    "    \n",
    "    for i in range (0, N):\n",
    "        for j in range (0, k):\n",
    "            tmp = np.copy(medoids[j])\n",
    "            medoids[j] = np.copy(X[i])\n",
    "            # somme de toutes les distances\n",
    "            for u in range (0, N):\n",
    "                for w in range (0, k):\n",
    "                    distances[w] = euclidean_distances([X[u]], [medoids[w]])\n",
    "                dist_sum += np.min(distances)\n",
    "            \n",
    "        \n",
    "            \n",
    "            # si la somme a diminué\n",
    "            if dist_sum < prev_sum:\n",
    "                print(\"cost : \", dist_sum)\n",
    "                prev_sum = dist_sum\n",
    "                dist_sum = 0\n",
    "                \n",
    "            \n",
    "            # sinon\n",
    "            else:\n",
    "                medoids[j] = tmp\n",
    "                dist_sum = 0\n",
    "\n",
    "    for i in range (0, N):\n",
    "        for j in range (0, k):\n",
    "            distances[j] = euclidean_distances([X[i]], [medoids[j]])\n",
    "        labels[i] = np.argmin(distances)\n",
    "        \n",
    "    return labels,medoids\n",
    "  \n",
    "    \n",
    "labels,centroids = k_medoids(X, 3)\n",
    "\n",
    "print(\"score :\", silhouette_score (X,labels, metric='euclidean'))\n",
    "\n",
    "for i in range(0, X.shape[0]):\n",
    "\n",
    "  plt.scatter(X[i][0], X[i][1], c=colors[labels[i]%len(colors)])\n",
    "  plt.scatter(centroids[:,0],centroids[:,1],marker = 'o',c='orange')\n",
    "    \n",
    "plt.show()"
   ]
  },
  {
   "cell_type": "code",
   "execution_count": 579,
   "metadata": {},
   "outputs": [
    {
     "name": "stdout",
     "output_type": "stream",
     "text": [
      "i =  0 :  0.520198401310698\n",
      "i =  1 :  0.520198401310698\n",
      "i =  2 :  0.520198401310698\n",
      "i =  3 :  0.520198401310698\n",
      "i =  4 :  0.520198401310698\n"
     ]
    }
   ],
   "source": [
    "# Test - indice de Silhouette de K-medoïds avec k=3\n",
    "for i in range(0,5):\n",
    "    \n",
    "    labels,centroids = k_medoids(X, 3)\n",
    "    print(\"i = \", i, \": \", silhouette_score (X,labels, metric='euclidean'))"
   ]
  },
  {
   "cell_type": "code",
   "execution_count": 538,
   "metadata": {},
   "outputs": [
    {
     "name": "stdout",
     "output_type": "stream",
     "text": [
      "i =  0 :  0.4867481112818122\n",
      "i =  1 :  0.42061971731043174\n",
      "i =  2 :  0.3682310718293418\n",
      "i =  3 :  0.4573549584186393\n",
      "i =  4 :  0.36134747092920527\n"
     ]
    }
   ],
   "source": [
    "# Test - indice de Silhouette de K-medoïds avec k=5\n",
    "for i in range(0,5):\n",
    "    \n",
    "    labels,centroids = k_medoids(X, 5)\n",
    "    print(\"i = \", i, \": \", silhouette_score (X,labels, metric='euclidean'))"
   ]
  },
  {
   "cell_type": "code",
   "execution_count": 539,
   "metadata": {},
   "outputs": [
    {
     "name": "stdout",
     "output_type": "stream",
     "text": [
      "i =  0 :  0.6857881712617189\n",
      "i =  1 :  0.6857881712617189\n",
      "i =  2 :  0.6857881712617189\n",
      "i =  3 :  0.6857881712617189\n",
      "i =  4 :  0.6857881712617189\n"
     ]
    }
   ],
   "source": [
    "# Test - indice de Silhouette de K-medoïds avec k=2\n",
    "for i in range(0,5):\n",
    "    \n",
    "    labels,centroids = k_medoids(X, 2)\n",
    "    print(\"i = \", i, \": \", silhouette_score (X,labels, metric='euclidean'))"
   ]
  },
  {
   "cell_type": "code",
   "execution_count": null,
   "metadata": {},
   "outputs": [],
   "source": [
    "# La methode K-medoids semble être un peu plus stable que K-means, mais plus le nombre de clusters est grand,\n",
    "# plus les deux algorithmes ont du mal à classifier les données (et vis versa). \n",
    "# L'avantage évident de K-means est sa rapidité: on a une complexité de O(n*k) contre O(n2*k2) de K-medoids.\n",
    "\n",
    "# Utiliser la méthode K-means++ n'est pas nécessaire dans ces algorithmes: que ce soit pour K-means ou pour\n",
    "# K-medoids, les résultats tournent autour des mêmes valeurs peu importe la manière d'initialiser les centres."
   ]
  }
 ],
 "metadata": {
  "kernelspec": {
   "display_name": "Python 3",
   "language": "python",
   "name": "python3"
  },
  "language_info": {
   "codemirror_mode": {
    "name": "ipython",
    "version": 3
   },
   "file_extension": ".py",
   "mimetype": "text/x-python",
   "name": "python",
   "nbconvert_exporter": "python",
   "pygments_lexer": "ipython3",
   "version": "3.7.3"
  }
 },
 "nbformat": 4,
 "nbformat_minor": 2
}
