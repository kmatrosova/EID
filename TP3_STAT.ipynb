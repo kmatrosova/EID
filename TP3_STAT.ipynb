{
 "cells": [
  {
   "cell_type": "code",
   "execution_count": null,
   "metadata": {},
   "outputs": [],
   "source": [
    "import csv\n",
    "import numpy as np\n",
    "import matplotlib.pyplot as plt\n",
    "from sklearn import datasets\n",
    "from scipy import stats\n",
    "import math\n",
    "import copy\n",
    "import pandas as pd\n",
    "from scipy.stats import chi2_contingency"
   ]
  },
  {
   "cell_type": "code",
   "execution_count": 277,
   "metadata": {},
   "outputs": [
    {
     "name": "stdout",
     "output_type": "stream",
     "text": [
      "\u001b[1m Moyenne de QI échantillon taille 10: \u001b[0m 98.85083739584132\n",
      "\u001b[1m Écart-type: \u001b[0m 15.161288694781456\n",
      "\u001b[1m Erreur type: \u001b[0m 5.0537628982604845\n",
      "\u001b[1m Intervalle de confiance: \u001b[0m 89.26199648806717 108.43967830361548 \n",
      "\n",
      "\u001b[1m Moyenne de QI échantillon taille 1000: \u001b[0m 100.39920419897608\n",
      "\u001b[1m Écart-type: \u001b[0m 14.554089039845007\n",
      "\u001b[1m Erreur type: \u001b[0m 0.4604709994354233\n",
      "\u001b[1m Intervalle de confiance: \u001b[0m 99.47872278628002 101.31968561167214 \n",
      "\n",
      "\u001b[1m Moyenne de QI échantillon taille 100000: \u001b[0m 100.0349446032699\n",
      "\u001b[1m Écart-type: \u001b[0m 15.011580565752043\n",
      "\u001b[1m Erreur type: \u001b[0m 0.047471023222604984\n",
      "\u001b[1m Intervalle de confiance: \u001b[0m 99.73471299195486 100.33517621458495 \n",
      "\n",
      "\u001b[1m Moyenne de QI des personnes malnouries: \u001b[0m 87.98\n",
      "\u001b[1m Écart-type: \u001b[0m 9.629101723421556\n",
      "\u001b[1m Intervalle de confiance: \u001b[0m 86.05417965531569 89.90582034468432 \n",
      "\n"
     ]
    }
   ],
   "source": [
    "# 1 - ANALYSE DE QI\n",
    "\n",
    "X1 = np.random.normal(100, 15, 10)\n",
    "X2 = np.random.normal(100, 15, 1000)\n",
    "X3 = np.random.normal(100, 15, 100000)\n",
    "\n",
    "print(\"\\033[1m Moyenne de QI échantillon taille 10: \\033[0m\", np.average(X1))\n",
    "print(\"\\033[1m Écart-type: \\033[0m\", np.std(X1))\n",
    "print(\"\\033[1m Erreur type: \\033[0m\", stats.sem(X1))\n",
    "print(\"\\033[1m Intervalle de confiance: \\033[0m\", np.average(X1)-2*np.std(X1)/math.sqrt(10), np.average(X1)+2*np.std(X1)/math.sqrt(10), \"\\n\")\n",
    "\n",
    "\n",
    "print(\"\\033[1m Moyenne de QI échantillon taille 1000: \\033[0m\", np.average(X2))\n",
    "print(\"\\033[1m Écart-type: \\033[0m\", np.std(X2))\n",
    "print(\"\\033[1m Erreur type: \\033[0m\", stats.sem(X2))\n",
    "print(\"\\033[1m Intervalle de confiance: \\033[0m\", np.average(X2)-2*np.std(X2)/math.sqrt(1000), np.average(X2)+2*np.std(X2)/math.sqrt(1000), \"\\n\")\n",
    "\n",
    "\n",
    "\n",
    "print(\"\\033[1m Moyenne de QI échantillon taille 100000: \\033[0m\", np.average(X3))\n",
    "print(\"\\033[1m Écart-type: \\033[0m\", np.std(X3))\n",
    "print(\"\\033[1m Erreur type: \\033[0m\", stats.sem(X3))\n",
    "print(\"\\033[1m Intervalle de confiance: \\033[0m\", np.average(X3)-2*np.std(X3)/math.sqrt(10000), np.average(X3)+2*np.std(X3)/math.sqrt(10000), \"\\n\")\n",
    "\n",
    "\n",
    "# Plus l'échantillon est grand, plus la moyenne et l'écart-type se rapprochent des valeurs théoriques.\n",
    "# L'erreur type regresse de presque dix fois entre chaque echantillon, donc plus la taille de l'echantillon \n",
    "# est grande, plus l'erreur est petite. L'intervalle de confiance est également plus précis plus l'échantillon\n",
    "# est grand. En général donc plus l'échantillon est grand, plus il est représentatif.\n",
    "\n",
    "\n",
    "c = []\n",
    "with open('malnutrition.csv', newline='') as csvfile:\n",
    "    \n",
    "    reader = csv.reader(csvfile, delimiter=';')\n",
    "    for row in reader:\n",
    "        c.append(row[0])\n",
    "\n",
    "\n",
    "data = np.empty(len(c), dtype = int)\n",
    "for i in range (0, len(c)):\n",
    "    data[i] = int(c[i])\n",
    "    \n",
    "print(\"\\033[1m Moyenne de QI des personnes malnouries: \\033[0m\", np.average(data))\n",
    "print(\"\\033[1m Écart-type: \\033[0m\", np.std(data))\n",
    "print(\"\\033[1m Intervalle de confiance: \\033[0m\", np.average(data)-2*np.std(data)/math.sqrt(len(data)), np.average(data)+2*np.std(data)/math.sqrt(len(data)), \"\\n\")\n",
    "\n",
    "\n",
    "# On constate que la moyenne de QI des personnes malnouries est toujours inférieure à la moyenne. \n",
    "# C'est aussi le cas pour l'écart-type et l'intervalle de confiance. On peut en déduire que la\n",
    "# malnutrition est effectivement une cause de sous-développement de l'intellecte."
   ]
  },
  {
   "cell_type": "code",
   "execution_count": 278,
   "metadata": {},
   "outputs": [
    {
     "data": {
      "image/png": "[encoded data removed]",
      "text/plain": [
       "<Figure size 432x288 with 1 Axes>"
      ]
     },
     "metadata": {
      "needs_background": "light"
     },
     "output_type": "display_data"
    },
    {
     "data": {
      "image/png": "[encoded data removed]",
      "text/plain": [
       "<Figure size 432x288 with 1 Axes>"
      ]
     },
     "metadata": {
      "needs_background": "light"
     },
     "output_type": "display_data"
    },
    {
     "data": {
      "image/png": "[encoded data removed]",
      "text/plain": [
       "<Figure size 432x288 with 1 Axes>"
      ]
     },
     "metadata": {
      "needs_background": "light"
     },
     "output_type": "display_data"
    },
    {
     "data": {
      "image/png": "[encoded data removed]",
      "text/plain": [
       "<Figure size 432x288 with 1 Axes>"
      ]
     },
     "metadata": {
      "needs_background": "light"
     },
     "output_type": "display_data"
    },
    {
     "name": "stdout",
     "output_type": "stream",
     "text": [
      "\u001b[1m Noms des variables - correlation avec notre fonction - correlation avec la fonction numpy \u001b[0m \n",
      "\n",
      "sepal length - sepal width:  -0.11756978413300198 -0.11756978413300201 \n",
      "\n",
      "sepal length - petal length:  0.8717537758865834 0.8717537758865833 \n",
      "\n",
      "sepal length - petal width:  0.8179411262715753 0.8179411262715758 \n",
      "\n",
      "sepal width - petal length:  -0.4284401043305397 -0.4284401043305397 \n",
      "\n",
      "sepal length - petal width:  -0.36612593253643927 -0.36612593253643916 \n",
      "\n",
      "petal length - petal width:  0.9628654314027963 0.9628654314027962 \n",
      "\n",
      "\n",
      "\n",
      "\u001b[1m Intervalle de confiance: \u001b[0m -0.20239218493317662 0.782533689120168 \n",
      "\n"
     ]
    }
   ],
   "source": [
    "# 2 - Données multivariées\n",
    "\n",
    "# Je me suis permise de charger les données directement à partir de la librairie datasets afin de gagner du temps,\n",
    "# vous pouvez juger de ma capacité à traiter les fichiers csv dans la première et la dernière parties de ce TP.\n",
    "\n",
    "iris = datasets.load_iris()\n",
    "X = iris.data\n",
    "Y = iris.target\n",
    "\n",
    "plt.hist(X.T[0])\n",
    "plt.title(iris.feature_names[0])\n",
    "plt.show()\n",
    "\n",
    "plt.hist(X.T[1])\n",
    "plt.title(iris.feature_names[1])\n",
    "plt.show()\n",
    "\n",
    "plt.hist(X.T[2])\n",
    "plt.title(iris.feature_names[2])\n",
    "plt.show()\n",
    "\n",
    "plt.hist(X.T[3])\n",
    "plt.title(iris.feature_names[3])\n",
    "plt.show()\n",
    "\n",
    "# En observant les histogrammes obtenus, nous pouvouns supposer que l'on peut séparer les données en trois classes.\n",
    "# Nous observons également un lien entre les variables petal lentgth et petal width: mêmes s'ils ne sont pas \n",
    "# totalement identiques, leurs histogrammes suivent à peu près le même dessin.\n",
    "\n",
    "def coef_correl(A, B):\n",
    "    \n",
    "    l = A.shape[0]\n",
    "    \n",
    "    covariance = sum((A-np.mean(A))  * (B-np.mean(B))) / (l-1)\n",
    "    res = covariance / math.sqrt((np.std(A, ddof=1)**2) * (np.std(B, ddof=1))**2)\n",
    "    \n",
    "    return res\n",
    "\n",
    "print(\"\\033[1m Noms des variables - correlation avec notre fonction - correlation avec la fonction numpy \\033[0m \\n\")\n",
    "print(\"sepal length - sepal width: \", coef_correl(X[:,0], X[:,1]), np.corrcoef(X[:,0], X[:,1])[0][1], \"\\n\")\n",
    "print(\"sepal length - petal length: \", coef_correl(X[:,0], X[:,2]), np.corrcoef(X[:,0], X[:,2])[0][1], \"\\n\")\n",
    "print(\"sepal length - petal width: \", coef_correl(X[:,0], X[:,3]), np.corrcoef(X[:,0], X[:,3])[0][1], \"\\n\")\n",
    "print(\"sepal width - petal length: \", coef_correl(X[:,1], X[:,2]), np.corrcoef(X[:,1], X[:,2])[0][1], \"\\n\")\n",
    "print(\"sepal length - petal width: \", coef_correl(X[:,1], X[:,3]), np.corrcoef(X[:,1], X[:,3])[0][1], \"\\n\")\n",
    "print(\"petal length - petal width: \", coef_correl(X[:,2], X[:,3]), np.corrcoef(X[:,2], X[:,3])[0][1], \"\\n\\n\\n\")\n",
    "\n",
    "# Après avoir calculé les coefficients de corrélation, l'hypothèse sur la dépendance entre petal length et \n",
    "# petal width est démontrée: on trouve un coefficient de 0,96. \n",
    "# Mais on trouve également deux autre couples de variables qui ont une grande chance d'être dépendants:\n",
    "# sepal length - petal length avec un coef de 0,87 et sepal length - petal width avec un coef de 0,82\n",
    "\n",
    "coefs = [coef_correl(X[:,0], X[:,1]), coef_correl(X[:,0], X[:,2]), coef_correl(X[:,0], X[:,3]),coef_correl(X[:,1], X[:,2]),coef_correl(X[:,1], X[:,3]), coef_correl(X[:,2], X[:,3])]\n",
    "print(\"\\033[1m Intervalle de confiance: \\033[0m\", np.average(coefs)-2*np.std(coefs)/math.sqrt(len(coefs)), np.average(coefs)+2*np.std(coefs)/math.sqrt(len(coefs)), \"\\n\")\n",
    "\n",
    "# L'intervalle de confiance est large et désigne une majorité de variables indépendantes. \n"
   ]
  },
  {
   "cell_type": "code",
   "execution_count": 279,
   "metadata": {},
   "outputs": [
    {
     "data": {
      "image/png": "[encoded data removed]",
      "text/plain": [
       "<Figure size 432x288 with 1 Axes>"
      ]
     },
     "metadata": {
      "needs_background": "light"
     },
     "output_type": "display_data"
    },
    {
     "data": {
      "image/png": "[encoded data removed]",
      "text/plain": [
       "<Figure size 432x288 with 1 Axes>"
      ]
     },
     "metadata": {
      "needs_background": "light"
     },
     "output_type": "display_data"
    },
    {
     "data": {
      "image/png": "[encoded data removed]",
      "text/plain": [
       "<Figure size 432x288 with 1 Axes>"
      ]
     },
     "metadata": {
      "needs_background": "light"
     },
     "output_type": "display_data"
    },
    {
     "name": "stdout",
     "output_type": "stream",
     "text": [
      "\u001b[1m Tableau de contingence entre Outlook et Temperature:\n",
      "\n",
      " \u001b[0m col_0   1   2   3\n",
      "row_0            \n",
      "1      10  19  14\n",
      "2      19  36  14\n",
      "3      17  34  30 \n",
      "\n",
      "\u001b[1m Tableau de contingence entre Outlook et Humidity:\n",
      "\n",
      " \u001b[0m col_0   1   2   3\n",
      "row_0            \n",
      "1       0  13  30\n",
      "2       5  34  30\n",
      "3      37  35   9 \n",
      "\n",
      "\u001b[1m Tableau de contingence entre Humidity et Temperature:\n",
      "\n",
      " \u001b[0m col_0   1   2   3\n",
      "row_0            \n",
      "1       4  19  19\n",
      "2      20  38  24\n",
      "3      22  32  15 \n",
      "\n",
      "\n",
      "\n",
      "\u001b[1m Test X2 pour Outlook et Temperature:\n",
      "\n",
      " \u001b[0m (5.156231372327428, 0.2716395245680652, 4, array([[10.24870466, 19.82901554, 12.92227979],\n",
      "       [16.44559585, 31.81865285, 20.7357513 ],\n",
      "       [19.30569948, 37.35233161, 24.34196891]])) \n",
      "\n",
      "\u001b[1m Test X2 pour Outlook et Humidity:\n",
      "\n",
      " \u001b[0m (68.43334232432757, 4.860006244554568e-14, 4, array([[ 9.35751295, 18.26943005, 15.37305699],\n",
      "       [15.01554404, 29.31606218, 24.66839378],\n",
      "       [17.62694301, 34.41450777, 28.95854922]])) \n",
      "\n",
      "\u001b[1m Test X2 pour Humidity et Temperature:\n",
      "\n",
      " \u001b[0m (10.330736992441599, 0.03521016044258168, 4, array([[10.01036269, 19.36787565, 12.62176166],\n",
      "       [19.54404145, 37.8134715 , 24.64248705],\n",
      "       [16.44559585, 31.81865285, 20.7357513 ]])) \n",
      "\n"
     ]
    }
   ],
   "source": [
    "# 3 - Test d’indépendance et variables catégorielles\n",
    "\n",
    "c0 = []\n",
    "c1 = []\n",
    "c2 = []\n",
    "c3 = []\n",
    "\n",
    "with open('weather.csv', newline='') as csvfile:\n",
    "    \n",
    "    reader = csv.reader(csvfile, delimiter=';')\n",
    "    for row in reader:\n",
    "        c0.append(row[0])\n",
    "        c1.append(row[1])\n",
    "        c2.append(row[2])\n",
    "        c3.append(row[3])\n",
    "        \n",
    "c0.pop(0)\n",
    "c1.pop(0)\n",
    "c2.pop(0)\n",
    "c3.pop(0)\n",
    "\n",
    "outlook = np.ones(len(c1), dtype=int)\n",
    "humidity = np.ones(len(c2), dtype=int)\n",
    "temperature = np.ones(len(c3), dtype=int)\n",
    "\n",
    "for i in range (0, len(c2)):\n",
    "    if c1[i] == \"Overcast\":\n",
    "        outlook[i] = 2\n",
    "    elif c1[i] == \"Sunny\":\n",
    "        outlook[i] = 3\n",
    "    \n",
    "    if c2[i] == \"Average\":\n",
    "        humidity[i] = 2\n",
    "    elif c2[i] == \"High\":\n",
    "        humidity[i] = 3\n",
    "    \n",
    "    if c3[i] == \"Mild\":\n",
    "        temperature[i] = 2\n",
    "    elif c3[i] == \"Hot\":\n",
    "        temperature[i] = 3\n",
    "        \n",
    "plt.hist(outlook)\n",
    "plt.title(\"Outlook\")\n",
    "plt.show()\n",
    "\n",
    "plt.hist(humidity)\n",
    "plt.title(\"Humidity\")\n",
    "plt.show()\n",
    "\n",
    "plt.hist(temperature)\n",
    "plt.title(\"Temperature\")\n",
    "plt.show()\n",
    "\n",
    "# J'ai remplaceé les variables explicatives par des entiers pour faciliter le traitement des données.\n",
    "# Les trois histogrammes se ressemblent beaucoup: on se doute déjà d'une certaine dépendance entre les variables.\n",
    "\n",
    "\n",
    "OT = pd.crosstab(outlook, temperature)\n",
    "OH = pd.crosstab(outlook, humidity)\n",
    "HT = pd.crosstab(humidity, temperature)\n",
    "\n",
    "print(\"\\033[1m Tableau de contingence entre Outlook et Temperature:\\n\\n \\033[0m\", OT, \"\\n\")\n",
    "print(\"\\033[1m Tableau de contingence entre Outlook et Humidity:\\n\\n \\033[0m\", OH, \"\\n\")\n",
    "print(\"\\033[1m Tableau de contingence entre Humidity et Temperature:\\n\\n \\033[0m\", HT, \"\\n\\n\\n\")\n",
    "\n",
    "\n",
    "# Détermination du nombre de degrés de liberté:  z = (k-1)*(p-1) = (3-1)*(3-1) = 4\n",
    "# avec k et p les nombres de lignes et de colonnes du tableau de contingence\n",
    "\n",
    "\n",
    "print(\"\\033[1m Test X2 pour Outlook et Temperature:\\n\\n \\033[0m\", chi2_contingency(OT,correction=False), \"\\n\")\n",
    "print(\"\\033[1m Test X2 pour Outlook et Humidity:\\n\\n \\033[0m\", chi2_contingency(OH,correction=False), \"\\n\")\n",
    "print(\"\\033[1m Test X2 pour Humidity et Temperature:\\n\\n \\033[0m\", chi2_contingency(HT,correction=False), \"\\n\")\n",
    "\n",
    "\n",
    "# Lors des tests X2 nous pouvons voir que:\n",
    "\n",
    "# - Pour les variables Outlook et Temerature, nous avons un chi2 de 5,1 et un p de 0,27.\n",
    "#   Nous ne pouvons donc pas affirmer avec certitude que ces variables sont dépendantes.\n",
    "#   Elles ont néanmoins 73% de chances de l'être.\n",
    "\n",
    "# - Pour les variables Outlook et Humidity, nous avons un chi2 de 68,4 et un p très proche de zero.\n",
    "#   Outlook et Temperature sont donc dépendantes avec une chance de plus de 99%\n",
    "\n",
    "# - Pour les variables Humidity et Temerature, nous avons un chi2 de 10,3 et un p de 0,035.\n",
    "#   Humidity et Temperature sont donc dépendantes avec une chance de 96,5%"
   ]
  }
 ],
 "metadata": {
  "kernelspec": {
   "display_name": "Python 3",
   "language": "python",
   "name": "python3"
  },
  "language_info": {
   "codemirror_mode": {
    "name": "ipython",
    "version": 3
   },
   "file_extension": ".py",
   "mimetype": "text/x-python",
   "name": "python",
   "nbconvert_exporter": "python",
   "pygments_lexer": "ipython3",
   "version": "3.7.3"
  }
 },
 "nbformat": 4,
 "nbformat_minor": 2
}
